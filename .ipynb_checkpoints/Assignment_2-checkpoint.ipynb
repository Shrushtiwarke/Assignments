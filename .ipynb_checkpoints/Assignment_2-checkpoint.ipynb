{
 "cells": [
  {
   "cell_type": "markdown",
   "id": "da57c33d",
   "metadata": {},
   "source": [
    "Q1. What does an empty dictionary's code look like?"
   ]
  },
  {
   "cell_type": "code",
   "execution_count": 1,
   "id": "50055ec3",
   "metadata": {},
   "outputs": [],
   "source": [
    "-->dict={}"
   ]
  },
  {
   "cell_type": "markdown",
   "id": "a049fb63",
   "metadata": {},
   "source": [
    "Q2. What is the value of a dictionary value with the key 'foo' and the value 42?"
   ]
  },
  {
   "cell_type": "code",
   "execution_count": 2,
   "id": "839f5510",
   "metadata": {},
   "outputs": [
    {
     "name": "stdout",
     "output_type": "stream",
     "text": [
      "42\n"
     ]
    }
   ],
   "source": [
    "-->my_dict = {'foo': 42}\n",
    "print(my_dict['foo'])"
   ]
  },
  {
   "cell_type": "markdown",
   "id": "fa9ff5bd",
   "metadata": {},
   "source": [
    "Q3. What is the most significant distinction between a dictionary and a list?"
   ]
  },
  {
   "cell_type": "code",
   "execution_count": 6,
   "id": "828f152d",
   "metadata": {},
   "outputs": [],
   "source": [
    "-->The most significant distinction between a dictionary and a list in Python is how they organize and store data."
   ]
  },
  {
   "cell_type": "markdown",
   "id": "489d39b2",
   "metadata": {},
   "source": [
    "Q4. What happens if you try to access spam['foo'] if spam is {'bar': 100}?"
   ]
  },
  {
   "cell_type": "code",
   "execution_count": 13,
   "id": "1c7f6e27",
   "metadata": {},
   "outputs": [],
   "source": [
    "-->If you try to access spam['foo'] and spam is {'bar': 100}, a KeyError will be raised. This is because there is no key 'foo' \n",
    "in the dictionary spam, and attempting to access a non-existent key results in a KeyError in Python.\n",
    "\n",
    "Here's an example:\n",
    "spam = {'bar': 100}\n",
    "\n",
    "# Attempting to access a non-existent key 'foo'\n",
    "value = spam['foo']  # This line will raise a KeyError"
   ]
  },
  {
   "cell_type": "markdown",
   "id": "a7aefb01",
   "metadata": {},
   "source": [
    "Q5.If a dictionary is stored in spam, what is the difference between the expressions 'cat' in spam and 'cat' in spam.keys()?"
   ]
  },
  {
   "cell_type": "code",
   "execution_count": 22,
   "id": "0bec5454",
   "metadata": {},
   "outputs": [],
   "source": [
    "-->spam = {'cat': 42, 'dog': 7}\n",
    "print(spam) \n",
    "spam = {'cat': 42, 'dog': 7}\n",
    "print (spam.keys())"
   ]
  },
  {
   "cell_type": "code",
   "execution_count": null,
   "id": "2f80b4ec",
   "metadata": {},
   "outputs": [],
   "source": [
    "using the first expression ('cat' in spam) is often preferred as it is more concise and performs the key check directly on \n",
    "the dictionary. The second expression works but is less idiomatic and can be less efficient in certain cases."
   ]
  },
  {
   "cell_type": "markdown",
   "id": "9d5cb237",
   "metadata": {},
   "source": [
    "6. If a dictionary is stored in spam, what is the difference between the expressions 'cat' in spam and 'cat' in spam.values()?"
   ]
  },
  {
   "cell_type": "code",
   "execution_count": 23,
   "id": "11a242e1",
   "metadata": {},
   "outputs": [
    {
     "name": "stdout",
     "output_type": "stream",
     "text": [
      "{'cat': 42, 'dog': 7}\n",
      "dict_values([42, 7])\n"
     ]
    }
   ],
   "source": [
    "-->spam = {'cat': 42, 'dog': 7}\n",
    "print(spam) \n",
    "spam = {'cat': 42, 'dog': 7}\n",
    "print (spam.values())"
   ]
  },
  {
   "cell_type": "markdown",
   "id": "973d7e5a",
   "metadata": {},
   "source": [
    "7. What is a shortcut for the following code?\n",
    "if 'color' not in spam:\n",
    "spam['color'] = 'black'"
   ]
  },
  {
   "cell_type": "code",
   "execution_count": 12,
   "id": "5c31bf22",
   "metadata": {},
   "outputs": [],
   "source": [
    "-->spam.setdefault('color', 'black')"
   ]
  },
  {
   "cell_type": "markdown",
   "id": "6729f2d9",
   "metadata": {},
   "source": [
    "8. How do you \"pretty print\" dictionary values using which module and function?"
   ]
  },
  {
   "cell_type": "code",
   "execution_count": 11,
   "id": "4925b4c7",
   "metadata": {},
   "outputs": [
    {
     "name": "stdout",
     "output_type": "stream",
     "text": [
      "{'age': 30, 'city': 'New York', 'name': 'John'}\n"
     ]
    }
   ],
   "source": [
    "-->from pprint import pprint\n",
    "\n",
    "my_dict = {'name': 'John', 'age': 30, 'city': 'New York'}\n",
    "\n",
    "pprint(my_dict)"
   ]
  },
  {
   "cell_type": "code",
   "execution_count": null,
   "id": "d9614759",
   "metadata": {},
   "outputs": [],
   "source": []
  }
 ],
 "metadata": {
  "kernelspec": {
   "display_name": "Python 3 (ipykernel)",
   "language": "python",
   "name": "python3"
  },
  "language_info": {
   "codemirror_mode": {
    "name": "ipython",
    "version": 3
   },
   "file_extension": ".py",
   "mimetype": "text/x-python",
   "name": "python",
   "nbconvert_exporter": "python",
   "pygments_lexer": "ipython3",
   "version": "3.10.7"
  }
 },
 "nbformat": 4,
 "nbformat_minor": 5
}
